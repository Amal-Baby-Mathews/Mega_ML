{
  "cells": [
    {
      "cell_type": "markdown",
      "metadata": {
        "id": "view-in-github",
        "colab_type": "text"
      },
      "source": [
        "<a href=\"https://colab.research.google.com/github/Amal-Baby-Mathews/Mega_ML/blob/main/ML_2Kmeancluster(unsupervised_learning).ipynb\" target=\"_parent\"><img src=\"https://colab.research.google.com/assets/colab-badge.svg\" alt=\"Open In Colab\"/></a>"
      ]
    },
    {
      "cell_type": "code",
      "execution_count": 1,
      "metadata": {
        "id": "Ji9i1v7UfHqI"
      },
      "outputs": [],
      "source": [
        "# import datasets, modules and libraries to train and test a k mean cluster model\n",
        "\n",
        "import numpy as np\n",
        "import sklearn\n",
        "from sklearn.datasets import load_digits\n",
        "from sklearn.preprocessing import scale\n",
        "from sklearn.cluster import KMeans\n",
        "\n"
      ]
    },
    {
      "cell_type": "code",
      "execution_count": 2,
      "metadata": {
        "id": "7hW0AHRDfHqL"
      },
      "outputs": [],
      "source": [
        "digits = load_digits()\n",
        "data = scale(digits.data)\n",
        "y= digits.target\n",
        "k= len(np.unique(y))\n",
        "samples, features = data.shape"
      ]
    },
    {
      "cell_type": "code",
      "execution_count": 3,
      "metadata": {
        "id": "Ufq22cJqfHqM"
      },
      "outputs": [],
      "source": [
        "def bench_k_means(estimator, name, data):\n",
        "    estimator.fit(data)\n",
        "    print('%-9s\\t%i\\t%.3f\\t%.3f\\t%.3f\\t%.3f\\t%.3f\\t%.3f'\n",
        "          % (name, estimator.inertia_,\n",
        "             metrics.homogeneity_score(y, estimator.labels_),\n",
        "             metrics.completeness_score(y, estimator.labels_),\n",
        "             metrics.v_measure_score(y, estimator.labels_),\n",
        "             metrics.adjusted_rand_score(y, estimator.labels_),\n",
        "             metrics.adjusted_mutual_info_score(y,  estimator.labels_),\n",
        "             metrics.silhouette_score(data, estimator.labels_,\n",
        "                                      metric='euclidean')))"
      ]
    },
    {
      "cell_type": "code",
      "execution_count": 5,
      "metadata": {
        "colab": {
          "base_uri": "https://localhost:8080/"
        },
        "id": "J7xgvGU4fHqM",
        "outputId": "998416f2-76aa-486c-c0a8-441cd0646b4e"
      },
      "outputs": [
        {
          "output_type": "stream",
          "name": "stdout",
          "text": [
            "k-means++\t69659\t0.670\t0.713\t0.690\t0.551\t0.687\t0.144\n"
          ]
        }
      ],
      "source": [
        "clf= KMeans(init='k-means++', n_clusters=k, n_init=10)\n",
        "from sklearn import metrics\n",
        "bench_k_means(clf, \"k-means++\", data)\n"
      ]
    },
    {
      "cell_type": "markdown",
      "source": [
        "# **Kmean clustering works unsupervised, creates (k) centroids in the data, reposition the centroid to the new calculated centroid from nearest data, creates classified data points in the space.**"
      ],
      "metadata": {
        "id": "Pm8lT3JzgFZk"
      }
    }
  ],
  "metadata": {
    "language_info": {
      "name": "python"
    },
    "colab": {
      "provenance": [],
      "include_colab_link": true
    },
    "kernelspec": {
      "name": "python3",
      "display_name": "Python 3"
    }
  },
  "nbformat": 4,
  "nbformat_minor": 0
}